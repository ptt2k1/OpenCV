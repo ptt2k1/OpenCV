{
 "cells": [
  {
   "cell_type": "markdown",
   "id": "98b9a2d0",
   "metadata": {},
   "source": [
    "# Read, Display and Write an Image using OpenCV"
   ]
  },
  {
   "cell_type": "markdown",
   "id": "40a9f567",
   "metadata": {},
   "source": [
    "1. imread() helps us read an image\n",
    "2. imshow() displays an image in a window\n",
    "3. imwrite() writes an image into the file directory"
   ]
  },
  {
   "cell_type": "code",
   "execution_count": 1,
   "id": "4ecfc615",
   "metadata": {},
   "outputs": [],
   "source": [
    "import cv2\n",
    "import numpy as np\n",
    "import matplotlib.pyplot as plt\n",
    "%matplotlib inline"
   ]
  },
  {
   "cell_type": "markdown",
   "id": "845fed54",
   "metadata": {},
   "source": [
    "## Reading an Image"
   ]
  },
  {
   "cell_type": "markdown",
   "id": "17d2042b",
   "metadata": {},
   "source": [
    "imread(filename, flags)\n",
    "\n",
    "flags:\n",
    "- cv2.IMREAD_UNCHANGED  or -1\n",
    "- cv2.IMREAD_GRAYSCALE  or 0\n",
    "- cv2.IMREAD_COLOR  or 1"
   ]
  },
  {
   "cell_type": "code",
   "execution_count": 2,
   "id": "e43b505f",
   "metadata": {},
   "outputs": [],
   "source": [
    "img_color = cv2.imread('images/1.JPG', 1);"
   ]
  },
  {
   "cell_type": "code",
   "execution_count": 3,
   "id": "b5206e0f",
   "metadata": {},
   "outputs": [],
   "source": [
    "img_grayscale = cv2.imread('images/1.JPG',0);"
   ]
  },
  {
   "cell_type": "code",
   "execution_count": 4,
   "id": "37b100e4",
   "metadata": {},
   "outputs": [],
   "source": [
    "img_unchanged = cv2.imread('images/1.JPG', -1);"
   ]
  },
  {
   "cell_type": "markdown",
   "id": "39f54cad",
   "metadata": {},
   "source": [
    "## Displaying an Image"
   ]
  },
  {
   "cell_type": "markdown",
   "id": "d1672c65",
   "metadata": {},
   "source": [
    "imshow(window_name, image)\n",
    "1. The first argument is the window name that will be displayed on the window.\n",
    "2. The second argument is the image that you want to display.\n",
    "\n",
    "waitKey(): thời gian cửa sổ được hiển thị (ms)\n",
    "destroyAllWindows()/destroyWindow(): xóa cửa sổ hoặc hình ảnh khỏi bộ nhớ chính của hệ thống"
   ]
  },
  {
   "cell_type": "code",
   "execution_count": 5,
   "id": "77cecd4d",
   "metadata": {},
   "outputs": [],
   "source": [
    "cv2.imshow('color image', img_color);\n",
    "cv2.waitKey(0);\n",
    "cv2.destroyAllWindows();"
   ]
  },
  {
   "cell_type": "markdown",
   "id": "cdd003f4",
   "metadata": {},
   "source": [
    "## Writing an Image"
   ]
  },
  {
   "cell_type": "markdown",
   "id": "4e5b2601",
   "metadata": {},
   "source": [
    "imwrite(filename, image)\n",
    "1. The first argument is the filename, which must include the filename extension (for example .png, .jpg etc). OpenCV uses this filename extension to specify the format of the file. \n",
    "2. The second argument is the image you want to save. The function returns True if the image is saved successfully."
   ]
  },
  {
   "cell_type": "code",
   "execution_count": 6,
   "id": "c45972ab",
   "metadata": {},
   "outputs": [
    {
     "data": {
      "text/plain": [
       "True"
      ]
     },
     "execution_count": 6,
     "metadata": {},
     "output_type": "execute_result"
    }
   ],
   "source": [
    "cv2.imwrite('grayscale.jpg',img_grayscale)"
   ]
  },
  {
   "cell_type": "markdown",
   "id": "4e13f83d",
   "metadata": {},
   "source": [
    "## Summary"
   ]
  },
  {
   "cell_type": "markdown",
   "id": "3e298cf3",
   "metadata": {},
   "source": [
    "1. imread(), imshow() and imwrite() functions to read, display, and write images \n",
    "2. waitKey() and destroyAllWindows() functions, along with the display function to \n",
    "- close the image window on key press\n",
    "- and clear any open image window from the memory."
   ]
  },
  {
   "cell_type": "markdown",
   "id": "57f6f9b1",
   "metadata": {},
   "source": [
    "# Reading and Writing Videos using OpenCV"
   ]
  },
  {
   "cell_type": "markdown",
   "id": "73ce3d58",
   "metadata": {},
   "source": [
    "## Reading Video From a File\n",
    "\n",
    "VideoCapture(path, apiPreference)"
   ]
  },
  {
   "cell_type": "code",
   "execution_count": 3,
   "id": "d8f42390",
   "metadata": {},
   "outputs": [],
   "source": [
    "# Create a video capture object, in this case we are reading the video from a file\n",
    "vid_capture = cv2.VideoCapture('video.mp4')"
   ]
  },
  {
   "cell_type": "markdown",
   "id": "f77b74cd",
   "metadata": {},
   "source": [
    "1. isOpened(): trả về một giá trị boolean cho biết luồng video có hợp lệ hay không\n",
    "2. get(): lấy một đối số duy nhất từ một danh sách liệt kê các tùy chọn \n",
    "+ 5: tốc độ khung hình (CAP_PROP_FPS)\n",
    "+ 7: số khung hình ( CAP_PROP_FRAME_COUNT)"
   ]
  },
  {
   "cell_type": "code",
   "execution_count": 4,
   "id": "8caaf64d",
   "metadata": {},
   "outputs": [
    {
     "name": "stdout",
     "output_type": "stream",
     "text": [
      "Frame Rate :  25 frames per second\n",
      "Frame count :  739.0\n"
     ]
    }
   ],
   "source": [
    "if (vid_capture.isOpened() == False):\n",
    "  print(\"Error opening the video file\")\n",
    "else:\n",
    "  # Get frame rate information\n",
    " \n",
    "  fps = int(vid_capture.get(5))\n",
    "  print(\"Frame Rate : \",fps,\"frames per second\")  \n",
    " \n",
    "  # Get frame count\n",
    "  frame_count = vid_capture.get(7)\n",
    "  print(\"Frame count : \", frame_count)"
   ]
  },
  {
   "cell_type": "markdown",
   "id": "59cbe6e4",
   "metadata": {},
   "source": [
    "1. vid_capture.read(): trả về một tuple\n",
    "trong đó:\n",
    "- phần tử đầu tiên là một giá trị logic \n",
    "- phần tử tiếp theo là khung hình video thực tế. \n",
    "\n",
    "Khi phần tử đầu tiên là True, nó cho biết luồng video chứa khung để đọc.\n",
    "\n",
    "2. imshow() để hiển thị khung hiện tại trong cửa sổ, nếu không thì thoát khỏi vòng lặp\n",
    "\n",
    "3. waitKey() chức năng tạm dừng trong 20 mili giây giữa các khung hình video"
   ]
  },
  {
   "cell_type": "code",
   "execution_count": 5,
   "id": "360a094d",
   "metadata": {},
   "outputs": [],
   "source": [
    "while(vid_capture.isOpened()):\n",
    "  # vCapture.read() methods returns a tuple, first element is a bool \n",
    "  # and the second is frame\n",
    " \n",
    "  ret, frame = vid_capture.read()\n",
    "  if ret == True:\n",
    "    cv2.imshow('Frame',frame)\n",
    "    k = cv2.waitKey(20)\n",
    "    # 113 is ASCII code for q key\n",
    "    if k == 113:\n",
    "      break\n",
    "  else:\n",
    "    break"
   ]
  },
  {
   "cell_type": "markdown",
   "id": "c717695b",
   "metadata": {},
   "source": [
    "Giải phóng đối tượng quay video(vid_capture) và đóng cửa sổ"
   ]
  },
  {
   "cell_type": "code",
   "execution_count": 6,
   "id": "4561e338",
   "metadata": {},
   "outputs": [],
   "source": [
    "# Release the objects\n",
    "vid_capture.release()\n",
    "cv2.destroyAllWindows()"
   ]
  },
  {
   "cell_type": "markdown",
   "id": "f586adcc",
   "metadata": {},
   "source": [
    "## Reading an Image Sequence"
   ]
  },
  {
   "cell_type": "code",
   "execution_count": 7,
   "id": "aae62a4e",
   "metadata": {},
   "outputs": [],
   "source": [
    "# một chuỗi hình ảnh\n",
    "# ví dụ: Cars0001.jpg, Cars0002.jpg, Cars0003.jpg, ... \n",
    "#vid_capture = cv2.VideoCapture('Resources/Image_sequence/Cars%04d.jpg')"
   ]
  },
  {
   "cell_type": "markdown",
   "id": "155fea2d",
   "metadata": {},
   "source": [
    "## Reading Video from a Webcam"
   ]
  },
  {
   "cell_type": "code",
   "execution_count": 14,
   "id": "8dbbfd95",
   "metadata": {},
   "outputs": [],
   "source": [
    "#CAP_DSHOWchỉ là một tùy chọn API quay video khác, viết tắt của directshow via video input.\n",
    "vid_capture = cv2.VideoCapture(0, cv2.CAP_DSHOW)"
   ]
  },
  {
   "cell_type": "markdown",
   "id": "865c59a6",
   "metadata": {},
   "source": [
    "## Writing Videos"
   ]
  },
  {
   "cell_type": "markdown",
   "id": "dbcda5e6",
   "metadata": {},
   "source": [
    "- chiều cao và chiều rộng của khung ảnh bằng get() : 3,4\n",
    "- Khởi tạo một đối tượng quay video"
   ]
  },
  {
   "cell_type": "code",
   "execution_count": 15,
   "id": "c26bd853",
   "metadata": {},
   "outputs": [],
   "source": [
    "# Obtain frame size information using get() method\n",
    "frame_width = int(vid_capture.get(3))\n",
    "frame_height = int(vid_capture.get(4))\n",
    "frame_size = (frame_width,frame_height)\n",
    "fps = 20"
   ]
  },
  {
   "cell_type": "markdown",
   "id": "0ed42b5d",
   "metadata": {},
   "source": [
    "VideoWriter(filename, apiPreference, fourcc, fps, frameSize[,isColor])\n",
    "- filename: tên đường dẫn cho tệp video đầu ra\n",
    "- apiPreference: Định danh phụ trợ API\n",
    "- fourcc: Mã 4 ký tự của codec, dùng để nén khung hình ( Fourcc )\n",
    "- fps: Tốc độ khung hình của luồng video đã tạo\n",
    "- frame_size: Kích thước của khung hình video\n",
    "- isColor: Nếu không bằng 0, bộ mã hóa sẽ mong đợi và mã hóa các khung màu. Nếu không, nó sẽ hoạt động với các khung thang độ xám (cờ hiện chỉ được hỗ trợ trên Windows).\n",
    "\n",
    "AVI:cv2.VideoWriter_fourcc('M','J','P','G')\n",
    "\n",
    "MP4:cv2.VideoWriter_fourcc(*'XVID')"
   ]
  },
  {
   "cell_type": "code",
   "execution_count": 16,
   "id": "cf315aca",
   "metadata": {},
   "outputs": [],
   "source": [
    "# Initialize video writer object\n",
    "output = cv2.VideoWriter('output_video_from_file.mp4', cv2.VideoWriter_fourcc(*'XVID'), 20, frame_size)\n"
   ]
  },
  {
   "cell_type": "code",
   "execution_count": 19,
   "id": "4fa2e56a",
   "metadata": {},
   "outputs": [],
   "source": [
    "while(vid_capture.isOpened()):\n",
    "    # vid_capture.read() methods returns a tuple, first element is a bool \n",
    "    # and the second is frame\n",
    " \n",
    "    ret, frame = vid_capture.read()\n",
    "    if ret == True:\n",
    "           # Write the frame to the output files\n",
    "           output.write(frame)\n",
    "    else:\n",
    "         print('Stream disconnected')\n",
    "    break"
   ]
  },
  {
   "cell_type": "code",
   "execution_count": 20,
   "id": "a0e42843",
   "metadata": {},
   "outputs": [],
   "source": [
    "# Release the objects\n",
    "vid_capture.release()\n",
    "output.release()"
   ]
  },
  {
   "cell_type": "markdown",
   "id": "46cf3c0a",
   "metadata": {},
   "source": [
    "# Thay đổi kích thước hình ảnh"
   ]
  },
  {
   "cell_type": "code",
   "execution_count": 2,
   "id": "b0a43b2f",
   "metadata": {},
   "outputs": [
    {
     "name": "stdout",
     "output_type": "stream",
     "text": [
      "Hight 503 width 894 channel 3\n"
     ]
    }
   ],
   "source": [
    "# Reading image\n",
    "image = cv2.imread('images/1.JPG')\n",
    "\n",
    "# Get original height and width\n",
    "h,w,c = image.shape\n",
    "print(\"Hight\",h,\"width\",w,\"channel\",c)"
   ]
  },
  {
   "cell_type": "markdown",
   "id": "a6e9aa37",
   "metadata": {},
   "source": [
    "resize(src, dsize[, dst[, fx[, fy[, interpolation]]]])\n",
    "- src: Đó là hình ảnh đầu vào bắt buộc, nó có thể là một chuỗi có đường dẫn của hình ảnh đầu vào (ví dụ: 'test_image.png').\n",
    "- dsize: Đó là kích thước mong muốn của hình ảnh đầu ra, nó có thể là chiều cao và chiều rộng mới.\n",
    "- fx: Hệ số tỷ lệ dọc theo trục hoành.\n",
    "- fy: Hệ số tỷ lệ theo trục tung.\n",
    "- interpolation: Nó cho chúng ta tùy chọn các phương pháp thay đổi kích thước hình ảnh khác nhau."
   ]
  },
  {
   "cell_type": "markdown",
   "id": "024335b8",
   "metadata": {},
   "source": [
    "## Thay đổi kích thước bằng cách chỉ định chiều rộng và chiều cao"
   ]
  },
  {
   "cell_type": "code",
   "execution_count": 27,
   "id": "a2bd2f3e",
   "metadata": {},
   "outputs": [],
   "source": [
    "# Set rows and columns \n",
    "# lets downsize the image using new  width and height\n",
    "down_width = 300\n",
    "down_height = 200\n",
    "down_points = (down_width, down_height)\n",
    "resized_down = cv2.resize(image, down_points, interpolation= cv2.INTER_LINEAR)"
   ]
  },
  {
   "cell_type": "markdown",
   "id": "59882e4f",
   "metadata": {},
   "source": [
    "Tiếp theo, chúng tôi tạo một biến khác để tăng kích thước của hình ảnh. "
   ]
  },
  {
   "cell_type": "code",
   "execution_count": 24,
   "id": "aea30e4f",
   "metadata": {},
   "outputs": [],
   "source": [
    "# Set rows and columns\n",
    "up_width = 600\n",
    "up_height = 400\n",
    "up_points = (up_width, up_height)\n",
    "# resize the image\n",
    "resized_up = cv2.resize(image, up_points, interpolation = cv2.INTER_LINEAR)"
   ]
  },
  {
   "cell_type": "code",
   "execution_count": 28,
   "id": "2d0076b4",
   "metadata": {},
   "outputs": [],
   "source": [
    "# Display images\n",
    "cv2.imshow('Resized Down by defining height and width', resized_down)\n",
    "cv2.waitKey()\n",
    "cv2.imshow('Resized Up image by defining height and width', resized_up)\n",
    "cv2.waitKey()\n",
    "cv2.destroyAllWindows()"
   ]
  },
  {
   "cell_type": "markdown",
   "id": "dc5fc659",
   "metadata": {},
   "source": [
    "## Thay đổi kích thước với hệ số tỷ lệ"
   ]
  },
  {
   "cell_type": "code",
   "execution_count": 3,
   "id": "df5d9184",
   "metadata": {},
   "outputs": [],
   "source": [
    "# Scaling Up the image 1.2 times by specifying both scaling factors\n",
    "scale_up_x = 1.2\n",
    "scale_up_y = 1.2\n",
    "# Scaling Down the image 0.6 times specifying a single scale factor.\n",
    "scale_down = 0.6\n",
    " \n",
    "scaled_f_down = cv2.resize(image, None, fx= scale_down, fy= scale_down, interpolation= cv2.INTER_LINEAR)\n",
    "scaled_f_up = cv2.resize(image, None, fx= scale_up_x, fy= scale_up_y, interpolation= cv2.INTER_LINEAR)"
   ]
  },
  {
   "cell_type": "code",
   "execution_count": 4,
   "id": "6186bbc3",
   "metadata": {},
   "outputs": [],
   "source": [
    "# Display images and press any key to check next image\n",
    "cv2.imshow('Resized Down by defining scaling factor', scaled_f_down)\n",
    "cv2.waitKey()\n",
    "cv2.imshow('Resized Up image by defining scaling factor', scaled_f_up)\n",
    "cv2.waitKey()\n",
    "cv2.destroyAllWindows()"
   ]
  },
  {
   "cell_type": "markdown",
   "id": "9270a402",
   "metadata": {},
   "source": [
    "## Thay đổi kích thước bằng các phương pháp nội suy khác nhau"
   ]
  },
  {
   "cell_type": "markdown",
   "id": "dc6ca224",
   "metadata": {},
   "source": [
    "1. INTER_AREA: INTER_AREA sử dụng mối quan hệ diện tích pixel để lấy mẫu lại. Điều này phù hợp nhất để giảm kích thước của hình ảnh (thu nhỏ). Khi được sử dụng để phóng to hình ảnh, nó sử dụng INTER_NEARESTphương thức.\n",
    "2. INTER_CUBIC: Điều này sử dụng phép nội suy nhị phân để thay đổi kích thước hình ảnh. Trong khi thay đổi kích thước và nội suy các pixel mới, phương pháp này hoạt động trên các pixel lân cận 4×4 của hình ảnh. Sau đó, nó lấy trọng số trung bình của 16 pixel để tạo pixel được nội suy mới.\n",
    "3. INTER_LINEAR: Phương pháp này hơi giống với INTER_CUBIC phép nội suy. Nhưng không giống như INTER_CUBIC, điều này sử dụng các pixel lân cận 2×2 để lấy giá trị trung bình có trọng số cho pixel được nội suy.\n",
    "4. INTER_NEAREST: INTER_NEAREST Phương thức sử dụng khái niệm hàng xóm gần nhất để nội suy. Đây là một trong những phương pháp đơn giản nhất, chỉ sử dụng một pixel lân cận từ hình ảnh để nội suy."
   ]
  },
  {
   "cell_type": "code",
   "execution_count": 5,
   "id": "51d3dc1c",
   "metadata": {},
   "outputs": [],
   "source": [
    "# Scaling Down the image 0.6 times using different Interpolation Method\n",
    "res_inter_nearest = cv2.resize(image, None, fx= scale_down, fy= scale_down, interpolation= cv2.INTER_NEAREST)\n",
    "res_inter_linear = cv2.resize(image, None, fx= scale_down, fy= scale_down, interpolation= cv2.INTER_LINEAR)\n",
    "res_inter_area = cv2.resize(image, None, fx= scale_down, fy= scale_down, interpolation= cv2.INTER_AREA)"
   ]
  },
  {
   "cell_type": "code",
   "execution_count": 6,
   "id": "3c434c03",
   "metadata": {},
   "outputs": [],
   "source": [
    "# Concatenate images in horizontal axis for comparison\n",
    "vertical= np.concatenate((res_inter_nearest, res_inter_linear, res_inter_area), axis = 0)\n",
    "# Display the image Press any key to continue\n",
    "cv2.imshow('Inter Nearest :: Inter Linear :: Inter Area', vertical)\n",
    "cv2.waitKey()\n",
    "cv2.destroyAllWindows()"
   ]
  },
  {
   "cell_type": "code",
   "execution_count": null,
   "id": "a18d0018",
   "metadata": {},
   "outputs": [],
   "source": []
  }
 ],
 "metadata": {
  "kernelspec": {
   "display_name": "Python 3 (ipykernel)",
   "language": "python",
   "name": "python3"
  },
  "language_info": {
   "codemirror_mode": {
    "name": "ipython",
    "version": 3
   },
   "file_extension": ".py",
   "mimetype": "text/x-python",
   "name": "python",
   "nbconvert_exporter": "python",
   "pygments_lexer": "ipython3",
   "version": "3.9.12"
  }
 },
 "nbformat": 4,
 "nbformat_minor": 5
}
