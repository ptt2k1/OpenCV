{
 "cells": [
  {
   "cell_type": "markdown",
   "id": "874b25fa",
   "metadata": {},
   "source": [
    "# Cropping an Image using OpenCV"
   ]
  },
  {
   "cell_type": "code",
   "execution_count": 1,
   "id": "d2aef0a9",
   "metadata": {},
   "outputs": [],
   "source": [
    "import cv2\n",
    "import numpy as np"
   ]
  },
  {
   "cell_type": "code",
   "execution_count": 2,
   "id": "47da7fad",
   "metadata": {},
   "outputs": [
    {
     "name": "stdout",
     "output_type": "stream",
     "text": [
      "(503, 894, 3)\n"
     ]
    }
   ],
   "source": [
    "img=cv2.imread('images/1.JPG')\n",
    " \n",
    "# Prints Dimensions of the image\n",
    "print(img.shape) \n",
    " \n",
    "# Display the image\n",
    "cv2.imshow(\"original\", img)\n",
    "cv2.waitKey(0)\n",
    "cv2.destroyAllWindows()"
   ]
  },
  {
   "cell_type": "markdown",
   "id": "a22bc36a",
   "metadata": {},
   "source": [
    "cropped = img[start_row:end_row, start_col:end_col]"
   ]
  },
  {
   "cell_type": "code",
   "execution_count": 3,
   "id": "ad9a089b",
   "metadata": {},
   "outputs": [],
   "source": [
    "# Slicing to crop the image\n",
    "cropped_image = img[80:280, 150:330] \n",
    " \n",
    "# Display the cropped image\n",
    "cv2.imshow(\"cropped\", cropped_image)\n",
    "cv2.waitKey(0)\n",
    "cv2.destroyAllWindows() "
   ]
  },
  {
   "cell_type": "markdown",
   "id": "da2d8ccb",
   "metadata": {},
   "source": [
    "## Chia hình ảnh thành các phần nhỏ bằng cách cắt xén"
   ]
  },
  {
   "cell_type": "code",
   "execution_count": 4,
   "id": "7efa7d0a",
   "metadata": {},
   "outputs": [],
   "source": [
    "img = cv2.imread('images/1.JPG')\n",
    "image_copy = img.copy()\n",
    "imgheight = img.shape[0]\n",
    "imgwidth = img.shape[1] "
   ]
  },
  {
   "cell_type": "markdown",
   "id": "838e9148",
   "metadata": {},
   "source": [
    "sử dụng các bản vá có chiều cao và chiều rộng lần lượt là 76 pixel và 104 pixel. Bước (số pixel chúng ta di chuyển qua hình ảnh) cho các vòng lặp bên trong và bên ngoài bằng với chiều rộng và chiều cao của các mảng mà chúng ta đang xem xét."
   ]
  },
  {
   "cell_type": "code",
   "execution_count": 5,
   "id": "d09e80d9",
   "metadata": {},
   "outputs": [],
   "source": [
    "M = 76\n",
    "N = 104\n",
    "x1 = 0\n",
    "y1 = 0\n",
    "\n",
    "for y in range(0,imgheight,M):\n",
    "    for x in range(0,imgwidth,N):\n",
    "        if (imgheight - y) < M or (imgwidth -x) < N:\n",
    "            break\n",
    "        x1 = x + N\n",
    "        y1 = y + M\n",
    "        \n",
    "        #kiểm tra xem chiều rộng hoặc chiều cao của bản vá \n",
    "        #có vượt quá chiều rộng hoặc chiều cao của hình ảnh không\n",
    "        if x1 >= imgwidth and y1 >= imgheight:\n",
    "            x1 = imgwidth - 1\n",
    "            y1 = imgheight - 1\n",
    "            #Cắt thành các bản vá có kích thước MXN\n",
    "            tiles = image_copy[y:y+M, x:x+N]\n",
    "            #Lưu từng bản vá vào thư mục tệp\n",
    "            cv2.imwrite('images/' + 'tile'+str(x)+'_'+str(y)+'.jpg',tiles)\n",
    "            cv2.rectangle(img, (x,y), (x1,y1), (0,255,0),1)\n",
    "        elif y1 >= imgheight: # when patch height exceeds the image height\n",
    "            y1 = imgheight - 1\n",
    "            #Crop into patches of size MxN\n",
    "            tiles = image_copy[y:y+M, x:x+N]\n",
    "            #Save each patch into file directory\n",
    "            cv2.imwrite('images/'+'tile'+str(x)+'_'+str(y)+'.jpg', tiles)\n",
    "            cv2.rectangle(img, (x, y), (x1, y1), (0, 255, 0), 1)\n",
    "        elif x1 >= imgwidth: # when patch width exceeds the image width\n",
    "            x1 = imgwidth - 1\n",
    "            #Crop into patches of size MxN\n",
    "            tiles = image_copy[y:y+M, x:x+N]\n",
    "            #Save each patch into file directory\n",
    "            cv2.imwrite('images/'+'tile'+str(x)+'_'+str(y)+'.jpg', tiles)\n",
    "            cv2.rectangle(img, (x, y), (x1, y1), (0, 255, 0), 1)\n",
    "        else:\n",
    "            #Crop into patches of size MxN\n",
    "            tiles = image_copy[y:y+M, x:x+N]\n",
    "            #Save each patch into file directory\n",
    "            cv2.imwrite('images/'+'tile'+str(x)+'_'+str(y)+'.jpg', tiles)\n",
    "            cv2.rectangle(img, (x, y), (x1, y1), (0, 255, 0), 1)\n"
   ]
  },
  {
   "cell_type": "code",
   "execution_count": null,
   "id": "d64e52a9",
   "metadata": {},
   "outputs": [],
   "source": []
  }
 ],
 "metadata": {
  "kernelspec": {
   "display_name": "Python 3 (ipykernel)",
   "language": "python",
   "name": "python3"
  },
  "language_info": {
   "codemirror_mode": {
    "name": "ipython",
    "version": 3
   },
   "file_extension": ".py",
   "mimetype": "text/x-python",
   "name": "python",
   "nbconvert_exporter": "python",
   "pygments_lexer": "ipython3",
   "version": "3.9.12"
  }
 },
 "nbformat": 4,
 "nbformat_minor": 5
}
